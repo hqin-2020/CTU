{
 "cells": [
  {
   "cell_type": "code",
   "execution_count": 32,
   "metadata": {},
   "outputs": [],
   "source": [
    "import numpy as np\n",
    "from support import *\n",
    "\n",
    "rho = 1.00001\n",
    "gamma = 8\n",
    "\n",
    "fraction = 0.01\n",
    "epsilon = 0.01"
   ]
  },
  {
   "cell_type": "code",
   "execution_count": 33,
   "metadata": {},
   "outputs": [],
   "source": [
    "phi1 = 28.0\n",
    "phi2 = 28.0\n",
    "eta1 = 0.013\n",
    "eta2 = 0.013\n",
    "\n",
    "a11 = 0.014\n",
    "alpha = 0.05\n",
    "zeta = 0.5\n",
    "kappa = 0.\n",
    "\n",
    "delta = 0.002 \n",
    "\n",
    "scale = 1.32\n",
    "sigma_1 = scale * np.array([.0048, 0, 0])\n",
    "sigma_2 = scale * np.array([ 0, .0048, 0])\n",
    "sigma_z1 = np.array([ .011*np.sqrt(5), .011*np.sqrt(5) , .025])\n",
    "\n",
    "beta1 = 0.1\n",
    "beta2 = 0.1"
   ]
  },
  {
   "cell_type": "code",
   "execution_count": 122,
   "metadata": {},
   "outputs": [
    {
     "name": "stdout",
     "output_type": "stream",
     "text": [
      "Grid dimension: [101, 101, 3]\n",
      "\n",
      "Grid step: [0.06, 0.002, 0.5]\n",
      "\n"
     ]
    }
   ],
   "source": [
    "ymin = -np.log(20)\n",
    "ymax = np.log(20)\n",
    "\n",
    "zmin = -0.1\n",
    "zmax = 0.1\n",
    "\n",
    "kamin = -1\n",
    "kamax = 1\n",
    "\n",
    "W1_min = ymin\n",
    "W1_max = ymax\n",
    "hW1 = 0.06\n",
    "W1 = np.arange(W1_min, W1_max+hW1, hW1)\n",
    "nW1 = len(W1)\n",
    "\n",
    "W2_min = zmin\n",
    "W2_max = zmax\n",
    "hW2 = 0.002\n",
    "W2 = np.arange(W2_min, W2_max+hW2, hW2)\n",
    "nW2 = len(W2)\n",
    "\n",
    "W3_min = 0\n",
    "W3_max = 1\n",
    "hW3 = 0.5\n",
    "W3 = np.arange(W3_min, W3_max+hW3, hW3)\n",
    "nW3 = len(W3)\n",
    "\n",
    "(W1_mat, W2_mat, W3_mat) = np.meshgrid(W1, W2, W3, indexing='ij')\n",
    "stateSpace = np.hstack([W1_mat.reshape(-1, 1, order='F'), W2_mat.reshape(-1, 1, order='F'), W3_mat.reshape(-1, 1, order='F')])\n",
    "\n",
    "W1_mat_1d = W1_mat.ravel(order='F')\n",
    "W2_mat_1d = W2_mat.ravel(order='F')\n",
    "W3_mat_1d = W3_mat.ravel(order='F')\n",
    "\n",
    "lowerLims = np.array([W1.min(), W2.min(), W3.min()], dtype=np.float64)\n",
    "upperLims = np.array([W1.max(), W2.max(), W3.max()], dtype=np.float64)\n",
    "\n",
    "print(\"Grid dimension: [{}, {}, {}]\\n\".format(nW1, nW2, nW3))\n",
    "print(\"Grid step: [{}, {}, {}]\\n\".format(hW1, hW2, hW3))\n",
    "\n",
    "dVec = np.array([hW1, hW2, hW3])\n",
    "increVec = np.array([1, nW1, nW1*nW2], dtype=np.int32)\n"
   ]
  },
  {
   "cell_type": "code",
   "execution_count": 116,
   "metadata": {},
   "outputs": [
    {
     "data": {
      "text/plain": [
       "24321"
      ]
     },
     "execution_count": 116,
     "metadata": {},
     "output_type": "execute_result"
    }
   ],
   "source": [
    "121* 201"
   ]
  },
  {
   "cell_type": "code",
   "execution_count": 99,
   "metadata": {},
   "outputs": [
    {
     "data": {
      "text/plain": [
       "array([[[0.0015, 0.0015, 0.0015, 0.0015, 0.0015],\n",
       "        [0.0015, 0.0015, 0.0015, 0.0015, 0.0015],\n",
       "        [0.0015, 0.0015, 0.0015, 0.0015, 0.0015],\n",
       "        ...,\n",
       "        [0.0015, 0.0015, 0.0015, 0.0015, 0.0015],\n",
       "        [0.0015, 0.0015, 0.0015, 0.0015, 0.0015],\n",
       "        [0.0015, 0.0015, 0.0015, 0.0015, 0.0015]],\n",
       "\n",
       "       [[0.0015, 0.0015, 0.0015, 0.0015, 0.0015],\n",
       "        [0.0015, 0.0015, 0.0015, 0.0015, 0.0015],\n",
       "        [0.0015, 0.0015, 0.0015, 0.0015, 0.0015],\n",
       "        ...,\n",
       "        [0.0015, 0.0015, 0.0015, 0.0015, 0.0015],\n",
       "        [0.0015, 0.0015, 0.0015, 0.0015, 0.0015],\n",
       "        [0.0015, 0.0015, 0.0015, 0.0015, 0.0015]],\n",
       "\n",
       "       [[0.0015, 0.0015, 0.0015, 0.0015, 0.0015],\n",
       "        [0.0015, 0.0015, 0.0015, 0.0015, 0.0015],\n",
       "        [0.0015, 0.0015, 0.0015, 0.0015, 0.0015],\n",
       "        ...,\n",
       "        [0.0015, 0.0015, 0.0015, 0.0015, 0.0015],\n",
       "        [0.0015, 0.0015, 0.0015, 0.0015, 0.0015],\n",
       "        [0.0015, 0.0015, 0.0015, 0.0015, 0.0015]],\n",
       "\n",
       "       ...,\n",
       "\n",
       "       [[0.    , 0.    , 0.    , 0.    , 0.    ],\n",
       "        [0.    , 0.    , 0.    , 0.    , 0.    ],\n",
       "        [0.    , 0.    , 0.    , 0.    , 0.    ],\n",
       "        ...,\n",
       "        [0.    , 0.    , 0.    , 0.    , 0.    ],\n",
       "        [0.    , 0.    , 0.    , 0.    , 0.    ],\n",
       "        [0.    , 0.    , 0.    , 0.    , 0.    ]],\n",
       "\n",
       "       [[0.    , 0.    , 0.    , 0.    , 0.    ],\n",
       "        [0.    , 0.    , 0.    , 0.    , 0.    ],\n",
       "        [0.    , 0.    , 0.    , 0.    , 0.    ],\n",
       "        ...,\n",
       "        [0.    , 0.    , 0.    , 0.    , 0.    ],\n",
       "        [0.    , 0.    , 0.    , 0.    , 0.    ],\n",
       "        [0.    , 0.    , 0.    , 0.    , 0.    ]],\n",
       "\n",
       "       [[0.    , 0.    , 0.    , 0.    , 0.    ],\n",
       "        [0.    , 0.    , 0.    , 0.    , 0.    ],\n",
       "        [0.    , 0.    , 0.    , 0.    , 0.    ],\n",
       "        ...,\n",
       "        [0.    , 0.    , 0.    , 0.    , 0.    ],\n",
       "        [0.    , 0.    , 0.    , 0.    , 0.    ],\n",
       "        [0.    , 0.    , 0.    , 0.    , 0.    ]]])"
      ]
     },
     "execution_count": 99,
     "metadata": {},
     "output_type": "execute_result"
    }
   ],
   "source": []
  },
  {
   "cell_type": "code",
   "execution_count": 100,
   "metadata": {},
   "outputs": [
    {
     "data": {
      "text/plain": [
       "array([[[0.0015, 0.0015, 0.0015, 0.0015, 0.0015],\n",
       "        [0.0015, 0.0015, 0.0015, 0.0015, 0.0015],\n",
       "        [0.0015, 0.0015, 0.0015, 0.0015, 0.0015],\n",
       "        ...,\n",
       "        [0.0015, 0.0015, 0.0015, 0.0015, 0.0015],\n",
       "        [0.0015, 0.0015, 0.0015, 0.0015, 0.0015],\n",
       "        [0.0015, 0.0015, 0.0015, 0.0015, 0.0015]],\n",
       "\n",
       "       [[0.0015, 0.0015, 0.0015, 0.0015, 0.0015],\n",
       "        [0.0015, 0.0015, 0.0015, 0.0015, 0.0015],\n",
       "        [0.0015, 0.0015, 0.0015, 0.0015, 0.0015],\n",
       "        ...,\n",
       "        [0.0015, 0.0015, 0.0015, 0.0015, 0.0015],\n",
       "        [0.0015, 0.0015, 0.0015, 0.0015, 0.0015],\n",
       "        [0.0015, 0.0015, 0.0015, 0.0015, 0.0015]],\n",
       "\n",
       "       [[0.0015, 0.0015, 0.0015, 0.0015, 0.0015],\n",
       "        [0.0015, 0.0015, 0.0015, 0.0015, 0.0015],\n",
       "        [0.0015, 0.0015, 0.0015, 0.0015, 0.0015],\n",
       "        ...,\n",
       "        [0.0015, 0.0015, 0.0015, 0.0015, 0.0015],\n",
       "        [0.0015, 0.0015, 0.0015, 0.0015, 0.0015],\n",
       "        [0.0015, 0.0015, 0.0015, 0.0015, 0.0015]],\n",
       "\n",
       "       ...,\n",
       "\n",
       "       [[0.0025, 0.0025, 0.0025, 0.0025, 0.0025],\n",
       "        [0.0025, 0.0025, 0.0025, 0.0025, 0.0025],\n",
       "        [0.0025, 0.0025, 0.0025, 0.0025, 0.0025],\n",
       "        ...,\n",
       "        [0.0025, 0.0025, 0.0025, 0.0025, 0.0025],\n",
       "        [0.0025, 0.0025, 0.0025, 0.0025, 0.0025],\n",
       "        [0.0025, 0.0025, 0.0025, 0.0025, 0.0025]],\n",
       "\n",
       "       [[0.0025, 0.0025, 0.0025, 0.0025, 0.0025],\n",
       "        [0.0025, 0.0025, 0.0025, 0.0025, 0.0025],\n",
       "        [0.0025, 0.0025, 0.0025, 0.0025, 0.0025],\n",
       "        ...,\n",
       "        [0.0025, 0.0025, 0.0025, 0.0025, 0.0025],\n",
       "        [0.0025, 0.0025, 0.0025, 0.0025, 0.0025],\n",
       "        [0.0025, 0.0025, 0.0025, 0.0025, 0.0025]],\n",
       "\n",
       "       [[0.0025, 0.0025, 0.0025, 0.0025, 0.0025],\n",
       "        [0.0025, 0.0025, 0.0025, 0.0025, 0.0025],\n",
       "        [0.0025, 0.0025, 0.0025, 0.0025, 0.0025],\n",
       "        ...,\n",
       "        [0.0025, 0.0025, 0.0025, 0.0025, 0.0025],\n",
       "        [0.0025, 0.0025, 0.0025, 0.0025, 0.0025],\n",
       "        [0.0025, 0.0025, 0.0025, 0.0025, 0.0025]]])"
      ]
     },
     "execution_count": 100,
     "metadata": {},
     "output_type": "execute_result"
    }
   ],
   "source": []
  },
  {
   "cell_type": "code",
   "execution_count": 72,
   "metadata": {},
   "outputs": [],
   "source": [
    "i1_star[i1_star>=alpha*0.01] = alpha-0.001\n",
    "i2_star[i2_star>=alpha] = alpha-0.001"
   ]
  },
  {
   "cell_type": "code",
   "execution_count": 102,
   "metadata": {},
   "outputs": [
    {
     "data": {
      "text/plain": [
       "array([[[1.9047619 , 1.9047619 , 1.9047619 , 1.9047619 , 1.9047619 ],\n",
       "        [1.9047619 , 1.9047619 , 1.9047619 , 1.9047619 , 1.9047619 ],\n",
       "        [1.9047619 , 1.9047619 , 1.9047619 , 1.9047619 , 1.9047619 ],\n",
       "        ...,\n",
       "        [1.9047619 , 1.9047619 , 1.9047619 , 1.9047619 , 1.9047619 ],\n",
       "        [1.9047619 , 1.9047619 , 1.9047619 , 1.9047619 , 1.9047619 ],\n",
       "        [1.9047619 , 1.9047619 , 1.9047619 , 1.9047619 , 1.9047619 ]],\n",
       "\n",
       "       [[1.89527013, 1.89527013, 1.89527013, 1.89527013, 1.89527013],\n",
       "        [1.89527013, 1.89527013, 1.89527013, 1.89527013, 1.89527013],\n",
       "        [1.89527013, 1.89527013, 1.89527013, 1.89527013, 1.89527013],\n",
       "        ...,\n",
       "        [1.89527013, 1.89527013, 1.89527013, 1.89527013, 1.89527013],\n",
       "        [1.89527013, 1.89527013, 1.89527013, 1.89527013, 1.89527013],\n",
       "        [1.89527013, 1.89527013, 1.89527013, 1.89527013, 1.89527013]],\n",
       "\n",
       "       [[1.88488954, 1.88488954, 1.88488954, 1.88488954, 1.88488954],\n",
       "        [1.88488954, 1.88488954, 1.88488954, 1.88488954, 1.88488954],\n",
       "        [1.88488954, 1.88488954, 1.88488954, 1.88488954, 1.88488954],\n",
       "        ...,\n",
       "        [1.88488954, 1.88488954, 1.88488954, 1.88488954, 1.88488954],\n",
       "        [1.88488954, 1.88488954, 1.88488954, 1.88488954, 1.88488954],\n",
       "        [1.88488954, 1.88488954, 1.88488954, 1.88488954, 1.88488954]],\n",
       "\n",
       "       ...,\n",
       "\n",
       "       [[0.11418798, 0.11418798, 0.11418798, 0.11418798, 0.11418798],\n",
       "        [0.11418798, 0.11418798, 0.11418798, 0.11418798, 0.11418798],\n",
       "        [0.11418798, 0.11418798, 0.11418798, 0.11418798, 0.11418798],\n",
       "        ...,\n",
       "        [0.11418798, 0.11418798, 0.11418798, 0.11418798, 0.11418798],\n",
       "        [0.11418798, 0.11418798, 0.11418798, 0.11418798, 0.11418798],\n",
       "        [0.11418798, 0.11418798, 0.11418798, 0.11418798, 0.11418798]],\n",
       "\n",
       "       [[0.10388599, 0.10388599, 0.10388599, 0.10388599, 0.10388599],\n",
       "        [0.10388599, 0.10388599, 0.10388599, 0.10388599, 0.10388599],\n",
       "        [0.10388599, 0.10388599, 0.10388599, 0.10388599, 0.10388599],\n",
       "        ...,\n",
       "        [0.10388599, 0.10388599, 0.10388599, 0.10388599, 0.10388599],\n",
       "        [0.10388599, 0.10388599, 0.10388599, 0.10388599, 0.10388599],\n",
       "        [0.10388599, 0.10388599, 0.10388599, 0.10388599, 0.10388599]],\n",
       "\n",
       "       [[0.09446689, 0.09446689, 0.09446689, 0.09446689, 0.09446689],\n",
       "        [0.09446689, 0.09446689, 0.09446689, 0.09446689, 0.09446689],\n",
       "        [0.09446689, 0.09446689, 0.09446689, 0.09446689, 0.09446689],\n",
       "        ...,\n",
       "        [0.09446689, 0.09446689, 0.09446689, 0.09446689, 0.09446689],\n",
       "        [0.09446689, 0.09446689, 0.09446689, 0.09446689, 0.09446689],\n",
       "        [0.09446689, 0.09446689, 0.09446689, 0.09446689, 0.09446689]]])"
      ]
     },
     "execution_count": 102,
     "metadata": {},
     "output_type": "execute_result"
    }
   ],
   "source": [
    "k1a"
   ]
  },
  {
   "cell_type": "code",
   "execution_count": 107,
   "metadata": {},
   "outputs": [
    {
     "data": {
      "text/plain": [
       "array([[[0.0007875 , 0.0007875 , 0.0007875 , 0.0007875 , 0.0007875 ],\n",
       "        [0.0007875 , 0.0007875 , 0.0007875 , 0.0007875 , 0.0007875 ],\n",
       "        [0.0007875 , 0.0007875 , 0.0007875 , 0.0007875 , 0.0007875 ],\n",
       "        ...,\n",
       "        [0.0007875 , 0.0007875 , 0.0007875 , 0.0007875 , 0.0007875 ],\n",
       "        [0.0007875 , 0.0007875 , 0.0007875 , 0.0007875 , 0.0007875 ],\n",
       "        [0.0007875 , 0.0007875 , 0.0007875 , 0.0007875 , 0.0007875 ]],\n",
       "\n",
       "       [[0.00079144, 0.00079144, 0.00079144, 0.00079144, 0.00079144],\n",
       "        [0.00079144, 0.00079144, 0.00079144, 0.00079144, 0.00079144],\n",
       "        [0.00079144, 0.00079144, 0.00079144, 0.00079144, 0.00079144],\n",
       "        ...,\n",
       "        [0.00079144, 0.00079144, 0.00079144, 0.00079144, 0.00079144],\n",
       "        [0.00079144, 0.00079144, 0.00079144, 0.00079144, 0.00079144],\n",
       "        [0.00079144, 0.00079144, 0.00079144, 0.00079144, 0.00079144]],\n",
       "\n",
       "       [[0.0007958 , 0.0007958 , 0.0007958 , 0.0007958 , 0.0007958 ],\n",
       "        [0.0007958 , 0.0007958 , 0.0007958 , 0.0007958 , 0.0007958 ],\n",
       "        [0.0007958 , 0.0007958 , 0.0007958 , 0.0007958 , 0.0007958 ],\n",
       "        ...,\n",
       "        [0.0007958 , 0.0007958 , 0.0007958 , 0.0007958 , 0.0007958 ],\n",
       "        [0.0007958 , 0.0007958 , 0.0007958 , 0.0007958 , 0.0007958 ],\n",
       "        [0.0007958 , 0.0007958 , 0.0007958 , 0.0007958 , 0.0007958 ]],\n",
       "\n",
       "       ...,\n",
       "\n",
       "       [[0.01313623, 0.01313623, 0.01313623, 0.01313623, 0.01313623],\n",
       "        [0.01313623, 0.01313623, 0.01313623, 0.01313623, 0.01313623],\n",
       "        [0.01313623, 0.01313623, 0.01313623, 0.01313623, 0.01313623],\n",
       "        ...,\n",
       "        [0.01313623, 0.01313623, 0.01313623, 0.01313623, 0.01313623],\n",
       "        [0.01313623, 0.01313623, 0.01313623, 0.01313623, 0.01313623],\n",
       "        [0.01313623, 0.01313623, 0.01313623, 0.01313623, 0.01313623]],\n",
       "\n",
       "       [[0.01443891, 0.01443891, 0.01443891, 0.01443891, 0.01443891],\n",
       "        [0.01443891, 0.01443891, 0.01443891, 0.01443891, 0.01443891],\n",
       "        [0.01443891, 0.01443891, 0.01443891, 0.01443891, 0.01443891],\n",
       "        ...,\n",
       "        [0.01443891, 0.01443891, 0.01443891, 0.01443891, 0.01443891],\n",
       "        [0.01443891, 0.01443891, 0.01443891, 0.01443891, 0.01443891],\n",
       "        [0.01443891, 0.01443891, 0.01443891, 0.01443891, 0.01443891]],\n",
       "\n",
       "       [[0.01587858, 0.01587858, 0.01587858, 0.01587858, 0.01587858],\n",
       "        [0.01587858, 0.01587858, 0.01587858, 0.01587858, 0.01587858],\n",
       "        [0.01587858, 0.01587858, 0.01587858, 0.01587858, 0.01587858],\n",
       "        ...,\n",
       "        [0.01587858, 0.01587858, 0.01587858, 0.01587858, 0.01587858],\n",
       "        [0.01587858, 0.01587858, 0.01587858, 0.01587858, 0.01587858],\n",
       "        [0.01587858, 0.01587858, 0.01587858, 0.01587858, 0.01587858]]])"
      ]
     },
     "execution_count": 107,
     "metadata": {},
     "output_type": "execute_result"
    }
   ],
   "source": [
    "alpha*A1cap/k1a"
   ]
  },
  {
   "cell_type": "code",
   "execution_count": 106,
   "metadata": {},
   "outputs": [
    {
     "data": {
      "text/plain": [
       "array([[[0.01575   , 0.01575   , 0.01575   , 0.01575   , 0.01575   ],\n",
       "        [0.01575   , 0.01575   , 0.01575   , 0.01575   , 0.01575   ],\n",
       "        [0.01575   , 0.01575   , 0.01575   , 0.01575   , 0.01575   ],\n",
       "        ...,\n",
       "        [0.01575   , 0.01575   , 0.01575   , 0.01575   , 0.01575   ],\n",
       "        [0.01575   , 0.01575   , 0.01575   , 0.01575   , 0.01575   ],\n",
       "        [0.01575   , 0.01575   , 0.01575   , 0.01575   , 0.01575   ]],\n",
       "\n",
       "       [[0.01432256, 0.01432256, 0.01432256, 0.01432256, 0.01432256],\n",
       "        [0.01432256, 0.01432256, 0.01432256, 0.01432256, 0.01432256],\n",
       "        [0.01432256, 0.01432256, 0.01432256, 0.01432256, 0.01432256],\n",
       "        ...,\n",
       "        [0.01432256, 0.01432256, 0.01432256, 0.01432256, 0.01432256],\n",
       "        [0.01432256, 0.01432256, 0.01432256, 0.01432256, 0.01432256],\n",
       "        [0.01432256, 0.01432256, 0.01432256, 0.01432256, 0.01432256]],\n",
       "\n",
       "       [[0.01303096, 0.01303096, 0.01303096, 0.01303096, 0.01303096],\n",
       "        [0.01303096, 0.01303096, 0.01303096, 0.01303096, 0.01303096],\n",
       "        [0.01303096, 0.01303096, 0.01303096, 0.01303096, 0.01303096],\n",
       "        ...,\n",
       "        [0.01303096, 0.01303096, 0.01303096, 0.01303096, 0.01303096],\n",
       "        [0.01303096, 0.01303096, 0.01303096, 0.01303096, 0.01303096],\n",
       "        [0.01303096, 0.01303096, 0.01303096, 0.01303096, 0.01303096]],\n",
       "\n",
       "       ...,\n",
       "\n",
       "       [[0.00079541, 0.00079541, 0.00079541, 0.00079541, 0.00079541],\n",
       "        [0.00079541, 0.00079541, 0.00079541, 0.00079541, 0.00079541],\n",
       "        [0.00079541, 0.00079541, 0.00079541, 0.00079541, 0.00079541],\n",
       "        ...,\n",
       "        [0.00079541, 0.00079541, 0.00079541, 0.00079541, 0.00079541],\n",
       "        [0.00079541, 0.00079541, 0.00079541, 0.00079541, 0.00079541],\n",
       "        [0.00079541, 0.00079541, 0.00079541, 0.00079541, 0.00079541]],\n",
       "\n",
       "       [[0.00079109, 0.00079109, 0.00079109, 0.00079109, 0.00079109],\n",
       "        [0.00079109, 0.00079109, 0.00079109, 0.00079109, 0.00079109],\n",
       "        [0.00079109, 0.00079109, 0.00079109, 0.00079109, 0.00079109],\n",
       "        ...,\n",
       "        [0.00079109, 0.00079109, 0.00079109, 0.00079109, 0.00079109],\n",
       "        [0.00079109, 0.00079109, 0.00079109, 0.00079109, 0.00079109],\n",
       "        [0.00079109, 0.00079109, 0.00079109, 0.00079109, 0.00079109]],\n",
       "\n",
       "       [[0.00078718, 0.00078718, 0.00078718, 0.00078718, 0.00078718],\n",
       "        [0.00078718, 0.00078718, 0.00078718, 0.00078718, 0.00078718],\n",
       "        [0.00078718, 0.00078718, 0.00078718, 0.00078718, 0.00078718],\n",
       "        ...,\n",
       "        [0.00078718, 0.00078718, 0.00078718, 0.00078718, 0.00078718],\n",
       "        [0.00078718, 0.00078718, 0.00078718, 0.00078718, 0.00078718],\n",
       "        [0.00078718, 0.00078718, 0.00078718, 0.00078718, 0.00078718]]])"
      ]
     },
     "execution_count": 106,
     "metadata": {},
     "output_type": "execute_result"
    }
   ],
   "source": [
    "alpha*A2cap/k2a"
   ]
  },
  {
   "cell_type": "code",
   "execution_count": 101,
   "metadata": {},
   "outputs": [],
   "source": [
    "k1a = ((1-zeta) + zeta*np.exp(W1_mat)**(1-kappa))**(1/(kappa-1))\n",
    "k2a = ((1-zeta)*np.exp(W1_mat)**(kappa-1) + zeta)**(1/(kappa-1))\n",
    "\n",
    "# i1_star[i1_star>=alpha] = alpha-0.001\n",
    "# i2_star[i2_star>=alpha] = alpha-0.001\n",
    "\n",
    "i1_star = i1_star*(~((i1_star*k1a)>=(alpha*A1cap))) + alpha*A1cap*((i1_star*k1a)>=(alpha*A1cap))-0.01\n",
    "i2_star = i2_star*(~((i2_star*k2a)>=(alpha*A2cap))) + alpha*A2cap*((i2_star*k2a)>=(alpha*A2cap))-0.01\n",
    "\n",
    "c_star= alpha - i1_star*k1a - i2_star*k2a\n",
    "\n",
    "mc = delta * np.exp((rho-1)*V0) * c_star**(-rho)\n",
    "\n",
    "i1_new = ((1-zeta)*k1a**(1-kappa) - dVdW1) / (mc*k1a) - 1\n",
    "i1_new = i1_new/phi1\n",
    "\n",
    "i2_new = (zeta*k2a**(1-kappa)+ dVdW1)/(mc*k2a) -1 \n",
    "i2_new = i1_new/phi2\n",
    "\n",
    "i1 = i1_new * fraction + i1_star*(1-fraction)\n",
    "i2 = i2_new * fraction + i2_star*(1-fraction)\n",
    "\n",
    "i1 = i1*(~((i1*k1a)>=(alpha*A1cap))) + alpha*A1cap*((i1*k1a)>=(alpha*A1cap))-0.01\n",
    "i2 = i2*(~((i2*k1a)>=(alpha*A2cap))) + alpha*A2cap*((i2*k1a)>=(alpha*A2cap))-0.01\n",
    "\n",
    "c = alpha - i1*k1a - i2*k2a\n",
    "\n",
    "########################## distortion #############\n",
    "\n",
    "h1_new = (1-zeta)*(k1a)**(1-kappa)*sigma_1[0] + zeta*(k2a)**(1-kappa)*sigma_2[0] + (sigma_2-sigma_1)[0]*dVdW1 + sigma_z1[0] *dVdW2\n",
    "h2_new = (1-zeta)*(k1a)**(1-kappa)*sigma_1[1] + zeta*(k2a)**(1-kappa)*sigma_2[1] + (sigma_2-sigma_1)[1]*dVdW1 + sigma_z1[1] *dVdW2\n",
    "hz_new = (1-zeta)*(k1a)**(1-kappa)*sigma_1[2] + zeta*(k2a)**(1-kappa)*sigma_2[2] + (sigma_2-sigma_1)[2]*dVdW1 + sigma_z1[2] *dVdW2\n",
    "\n",
    "h1 = h1_new * fraction + h1_star*(1-fraction)\n",
    "h2 = h2_new * fraction + h2_star*(1-fraction)\n",
    "hz = hz_new * fraction + hz_star*(1-fraction)\n",
    "\n",
    "h1 = -h1\n",
    "h2 = -h2\n",
    "hz = -hz\n",
    "\n",
    "h1[h1>=-1e-16] = -1e-16\n",
    "h2[h2>=-1e-16] = -1e-16\n",
    "hz[hz>=-1e-16] = -1e-16\n",
    "\n",
    "########################## FDM #############\n",
    "\n",
    "dkadk1dk1 = (kappa-1) * ((1-zeta)**2*(k1a)**(-2*kappa+2) - kappa/(kappa-1)*(1-zeta)*(k1a)**(-kappa+1))\n",
    "dkadk1dk2 = (kappa-1) * zeta*(1-zeta)*(k1a)**(-kappa+1)*(k2a)**(-kappa+1) \n",
    "dkadk2dk2 = (kappa-1) * (zeta**2*(k2a)**(-2*kappa+2) - kappa/(kappa-1)*(1-zeta)*(k2a)**(-kappa+1))\n",
    "\n",
    "Phi1 = 1/phi1 * np.log(1+phi1*i1)\n",
    "Phi2 = 1/phi2 * np.log(1+phi2*i2)\n",
    "\n",
    "A = np.zeros(W1_mat.shape)\n",
    "B_1 = Phi2 - Phi1 + (beta2-beta1)*W2_mat - eta2*np.ones(W1_mat.shape) + eta1*np.ones(W1_mat.shape) - 1/2*(np.sum(sigma_2**2)-np.sum(sigma_1**2))*np.ones(W1_mat.shape)\n",
    "B_2 = -a11*W2_mat\n",
    "B_3 = np.zeros(W1_mat.shape)\n",
    "C_1 = np.sum((sigma_2-sigma_1)**2)/2*np.ones(W1_mat.shape)\n",
    "C_2 = np.sum((sigma_z1)**2)/2*np.ones(W1_mat.shape)\n",
    "C_3 = np.zeros(W1_mat.shape)\n",
    "C_12 = np.sum(sigma_z1*(sigma_2-sigma_1))*np.ones(W1_mat.shape)\n",
    "C_23 = np.zeros(W1_mat.shape)\n",
    "C_31 = np.zeros(W1_mat.shape)\n",
    "D = delta/(1-rho) * (c**(1-rho)*np.exp((rho-1)*V0) - 1) \n",
    "D += (1-zeta)*k1a**(1-kappa)*(Phi1+beta1*W2_mat-eta1*np.ones(W1_mat.shape)) \n",
    "D += zeta*k2a**(1-kappa)*(Phi2+beta2*W2_mat-eta2*np.ones(W1_mat.shape))\n",
    "D += 1/2*(np.sum(sigma_1**2)*dkadk1dk1 + np.sum(sigma_2**2)*dkadk2dk2 + 2*np.sum(sigma_1*sigma_2)*dkadk1dk2)\n",
    "D += (1-gamma)/2 * np.sum(h1**2 + h2**2 + hz**2)"
   ]
  },
  {
   "cell_type": "code",
   "execution_count": 29,
   "metadata": {},
   "outputs": [
    {
     "data": {
      "text/plain": [
       "array([[0.0952381 , 0.0952381 , 0.0952381 , ..., 0.0952381 , 0.0952381 ,\n",
       "        0.0952381 ],\n",
       "       [0.10472987, 0.10472987, 0.10472987, ..., 0.10472987, 0.10472987,\n",
       "        0.10472987],\n",
       "       [0.11511046, 0.11511046, 0.11511046, ..., 0.11511046, 0.11511046,\n",
       "        0.11511046],\n",
       "       ...,\n",
       "       [1.88581202, 1.88581202, 1.88581202, ..., 1.88581202, 1.88581202,\n",
       "        1.88581202],\n",
       "       [1.89611401, 1.89611401, 1.89611401, ..., 1.89611401, 1.89611401,\n",
       "        1.89611401],\n",
       "       [1.90553311, 1.90553311, 1.90553311, ..., 1.90553311, 1.90553311,\n",
       "        1.90553311]])"
      ]
     },
     "execution_count": 29,
     "metadata": {},
     "output_type": "execute_result"
    }
   ],
   "source": [
    "k2a[:,:,0]"
   ]
  },
  {
   "cell_type": "code",
   "execution_count": 131,
   "metadata": {},
   "outputs": [],
   "source": [
    "import pickle\n",
    "lsp = pickle.load(open('data/TwoCapital_small_grid_Acap_smallepsilon_0.0005_frac_0.01/result_rho_1.00001_eps_0.0005_frac_0.01_A1cap_0.36_A2cap_0.36',\"rb\"))"
   ]
  },
  {
   "cell_type": "code",
   "execution_count": 135,
   "metadata": {},
   "outputs": [
    {
     "data": {
      "text/plain": [
       "dict_keys(['V0', 'i1_star', 'i2_star', 'h1_star', 'h2_star', 'hz_star', 'FC_Err', 'W1', 'W2', 'W3'])"
      ]
     },
     "execution_count": 135,
     "metadata": {},
     "output_type": "execute_result"
    }
   ],
   "source": [
    "lsp.keys()"
   ]
  },
  {
   "cell_type": "code",
   "execution_count": 145,
   "metadata": {},
   "outputs": [
    {
     "data": {
      "text/plain": [
       "[<matplotlib.lines.Line2D at 0x7f8ca9d9c310>]"
      ]
     },
     "execution_count": 145,
     "metadata": {},
     "output_type": "execute_result"
    },
    {
     "data": {
      "image/png": "[encoded data removed]",
      "text/plain": [
       "<Figure size 640x480 with 1 Axes>"
      ]
     },
     "metadata": {},
     "output_type": "display_data"
    }
   ],
   "source": [
    "import matplotlib.pyplot as plt\n",
    "# plt.plot(lsp['i1_star'][:,0,0])\n",
    "plt.plot(lsp['i1_star'][:,1,0])\n",
    "plt.plot(lsp['i2_star'][:,1,0])\n",
    "# plt.plot(np.arange(W1_min, W1_max+0.06, 0.06),lsp['V0'][:,1,0])\n",
    "# plt.plot(np.arange(W1_min, W1_max+0.06, 0.06),lsp['h1_star'][:,1,0])\n",
    "# plt.plot(np.arange(W1_min, W1_max+0.06, 0.06),lsp['h2_star'][:,1,0])"
   ]
  },
  {
   "cell_type": "code",
   "execution_count": 100,
   "metadata": {},
   "outputs": [
    {
     "data": {
      "text/plain": [
       "array([[[0.0007448 , 0.00074774, 0.00074771],\n",
       "        [0.0007448 , 0.00074774, 0.00074771],\n",
       "        [0.0007448 , 0.00074774, 0.00074771],\n",
       "        ...,\n",
       "        [0.00074479, 0.00074771, 0.00074771],\n",
       "        [0.00074479, 0.00074771, 0.00074771],\n",
       "        [0.00074479, 0.00074771, 0.00074771]],\n",
       "\n",
       "       [[0.00074819, 0.00075106, 0.00075103],\n",
       "        [0.00074819, 0.00075106, 0.00075103],\n",
       "        [0.00074819, 0.00075106, 0.00075103],\n",
       "        ...,\n",
       "        [0.00074818, 0.00075104, 0.00075103],\n",
       "        [0.00074818, 0.00075104, 0.00075103],\n",
       "        [0.00074818, 0.00075103, 0.00075103]],\n",
       "\n",
       "       [[0.00075201, 0.00075473, 0.0007547 ],\n",
       "        [0.00075201, 0.00075473, 0.0007547 ],\n",
       "        [0.00075201, 0.00075473, 0.0007547 ],\n",
       "        ...,\n",
       "        [0.00075199, 0.0007547 , 0.0007547 ],\n",
       "        [0.00075199, 0.0007547 , 0.0007547 ],\n",
       "        [0.00075199, 0.0007547 , 0.0007547 ]],\n",
       "\n",
       "       ...,\n",
       "\n",
       "       [[0.01208341, 0.00667634, 0.00664036],\n",
       "        [0.01208341, 0.00667631, 0.00664036],\n",
       "        [0.01208341, 0.00667624, 0.00664036],\n",
       "        ...,\n",
       "        [0.01208287, 0.00664342, 0.00664036],\n",
       "        [0.01208286, 0.00664191, 0.00664036],\n",
       "        [0.01208286, 0.00664036, 0.00664039]],\n",
       "\n",
       "       [[0.01215351, 0.00670659, 0.00667118],\n",
       "        [0.01215351, 0.00670655, 0.00667118],\n",
       "        [0.01215351, 0.00670648, 0.00667118],\n",
       "        ...,\n",
       "        [0.01215297, 0.00667381, 0.00667118],\n",
       "        [0.01215296, 0.00667229, 0.00667118],\n",
       "        [0.01215296, 0.00667075, 0.00667165]],\n",
       "\n",
       "       [[0.01228678, 0.00673548, 0.00669941],\n",
       "        [0.01228677, 0.00673545, 0.00669941],\n",
       "        [0.01228677, 0.00673537, 0.00669941],\n",
       "        ...,\n",
       "        [0.01228623, 0.00670162, 0.00669941],\n",
       "        [0.01228623, 0.00670005, 0.00669941],\n",
       "        [0.01228622, 0.00669845, 0.0067004 ]]])"
      ]
     },
     "execution_count": 100,
     "metadata": {},
     "output_type": "execute_result"
    }
   ],
   "source": []
  },
  {
   "cell_type": "code",
   "execution_count": 103,
   "metadata": {},
   "outputs": [],
   "source": [
    "import pandas as pd"
   ]
  },
  {
   "cell_type": "code",
   "execution_count": 114,
   "metadata": {},
   "outputs": [],
   "source": [
    "lsp1 = np.loadtxt('para_0143_d1.csv', delimiter=\",\", dtype=float)\n",
    "lsp2 = np.loadtxt('para_0143_d2.csv', delimiter=\",\", dtype=float)"
   ]
  },
  {
   "cell_type": "code",
   "execution_count": 138,
   "metadata": {},
   "outputs": [
    {
     "data": {
      "text/plain": [
       "[<matplotlib.lines.Line2D at 0x7f812a767cd0>]"
      ]
     },
     "execution_count": 138,
     "metadata": {},
     "output_type": "execute_result"
    },
    {
     "data": {
      "image/png": "[encoded data removed]",
      "text/plain": [
       "<Figure size 640x480 with 1 Axes>"
      ]
     },
     "metadata": {},
     "output_type": "display_data"
    }
   ],
   "source": [
    "plt.plot(lsp1[:,0])"
   ]
  },
  {
   "cell_type": "code",
   "execution_count": null,
   "metadata": {},
   "outputs": [],
   "source": []
  }
 ],
 "metadata": {
  "interpreter": {
   "hash": "1c67a9c81f4b1f676ee52b818d3e176be5c9dd44f82a35d6054954eb94c37bc5"
  },
  "kernelspec": {
   "display_name": "Python 3.9.12 ('base')",
   "language": "python",
   "name": "python3"
  },
  "language_info": {
   "codemirror_mode": {
    "name": "ipython",
    "version": 3
   },
   "file_extension": ".py",
   "mimetype": "text/x-python",
   "name": "python",
   "nbconvert_exporter": "python",
   "pygments_lexer": "ipython3",
   "version": "3.9.12"
  },
  "orig_nbformat": 4
 },
 "nbformat": 4,
 "nbformat_minor": 2
}
